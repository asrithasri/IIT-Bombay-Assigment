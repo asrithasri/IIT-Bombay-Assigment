{
  "nbformat": 4,
  "nbformat_minor": 0,
  "metadata": {
    "colab": {
      "provenance": [],
      "mount_file_id": "1YT4-cIurNvDyIFNhXhYYMfhgnond1_zR",
      "authorship_tag": "ABX9TyMqKi+BP2BPP0aCCo8ZkrfO",
      "include_colab_link": true
    },
    "kernelspec": {
      "name": "python3",
      "display_name": "Python 3"
    },
    "language_info": {
      "name": "python"
    }
  },
  "cells": [
    {
      "cell_type": "markdown",
      "metadata": {
        "id": "view-in-github",
        "colab_type": "text"
      },
      "source": [
        "<a href=\"https://colab.research.google.com/github/asrithasri/IIT-Bombay-Assigment/blob/main/Time_Wise_Death_Analysis_Europe_Data.ipynb\" target=\"_parent\"><img src=\"https://colab.research.google.com/assets/colab-badge.svg\" alt=\"Open In Colab\"/></a>"
      ]
    },
    {
      "cell_type": "code",
      "execution_count": null,
      "metadata": {
        "colab": {
          "base_uri": "https://localhost:8080/"
        },
        "id": "Zw3VY8RZmbki",
        "outputId": "55892f2c-6ea1-4188-b348-6bdf295b201e"
      },
      "outputs": [
        {
          "output_type": "stream",
          "name": "stdout",
          "text": [
            "Drive already mounted at /content/drive; to attempt to forcibly remount, call drive.mount(\"/content/drive\", force_remount=True).\n"
          ]
        }
      ],
      "source": [
        "from google.colab import drive\n",
        "drive.mount('/content/drive')"
      ]
    },
    {
      "cell_type": "code",
      "source": [
        "import numpy as np\n",
        "import matplotlib.pyplot as plt\n",
        "import pandas as pd"
      ],
      "metadata": {
        "id": "U-VgaCfymhoJ"
      },
      "execution_count": null,
      "outputs": []
    },
    {
      "cell_type": "code",
      "source": [
        "df = pd.read_csv('/content/drive/MyDrive/IIT bombay Internsip folder/EuroMoMo Excess Deaths Data - 4-week-cluster-plots-15-44 - EuroMoMo Excess Deaths Data - 4-week-cluster-plots-15-44.csv')"
      ],
      "metadata": {
        "id": "UZM7Ig1PmgWE"
      },
      "execution_count": 56,
      "outputs": []
    },
    {
      "cell_type": "code",
      "source": [
        "# df['week cluster'] = df['week cluster']\n",
        "# df.to_csv('data.csv', index=False)\n",
        "\n",
        "# Extract relevant columns\n",
        "clusters = data['week cluster']\n",
        "deaths_2020 = data['2020']\n",
        "deaths_2021 = data['2021']\n",
        "\n",
        "# Set up the figure and axis\n",
        "fig, ax = plt.subplots(figsize=(10, 6))\n",
        "\n",
        "# Plot the bar graph\n",
        "bar_width = 0.35\n",
        "bar_positions_2020 = np.arange(len(clusters))\n",
        "bar_positions_2021 = bar_positions_2020 + bar_width\n",
        "\n",
        "bar_2020 = ax.bar(bar_positions_2020, deaths_2020, bar_width, label='2020', alpha=0.7)\n",
        "bar_2021 = ax.bar(bar_positions_2021, deaths_2021, bar_width, label='2021', alpha=0.7)\n",
        "\n",
        "# Add labels and title\n",
        "ax.set_xlabel('4-week cluster')\n",
        "ax.set_ylabel('Monthly Excess Deaths in Europe: 15-44year')\n",
        "ax.set_title('Monthly Excess Deaths: 2020 vs 2021')\n",
        "\n",
        "# Set the x-axis ticks and labels\n",
        "ax.set_xticks(bar_positions_2020 + bar_width / 2)\n",
        "ax.set_xticklabels(clusters)\n",
        "\n",
        "# Add legend\n",
        "ax.legend()\n",
        "\n",
        "# Show the plot\n",
        "plt.show()\n"
      ],
      "metadata": {
        "colab": {
          "base_uri": "https://localhost:8080/",
          "height": 245
        },
        "id": "-hf1vB3WmpfZ",
        "outputId": "20977f55-5646-4bc8-a5a4-22e559d3992f"
      },
      "execution_count": 60,
      "outputs": [
        {
          "output_type": "error",
          "ename": "KeyError",
          "evalue": "ignored",
          "traceback": [
            "\u001b[0;31m---------------------------------------------------------------------------\u001b[0m",
            "\u001b[0;31mKeyError\u001b[0m                                  Traceback (most recent call last)",
            "\u001b[0;32m<ipython-input-60-329aa1f096b9>\u001b[0m in \u001b[0;36m<cell line: 5>\u001b[0;34m()\u001b[0m\n\u001b[1;32m      3\u001b[0m \u001b[0;34m\u001b[0m\u001b[0m\n\u001b[1;32m      4\u001b[0m \u001b[0;31m# Extract relevant columns\u001b[0m\u001b[0;34m\u001b[0m\u001b[0;34m\u001b[0m\u001b[0m\n\u001b[0;32m----> 5\u001b[0;31m \u001b[0mclusters\u001b[0m \u001b[0;34m=\u001b[0m \u001b[0mdata\u001b[0m\u001b[0;34m[\u001b[0m\u001b[0;34m'week cluster'\u001b[0m\u001b[0;34m]\u001b[0m\u001b[0;34m\u001b[0m\u001b[0;34m\u001b[0m\u001b[0m\n\u001b[0m\u001b[1;32m      6\u001b[0m \u001b[0mdeaths_2020\u001b[0m \u001b[0;34m=\u001b[0m \u001b[0mdata\u001b[0m\u001b[0;34m[\u001b[0m\u001b[0;34m'2020'\u001b[0m\u001b[0;34m]\u001b[0m\u001b[0;34m\u001b[0m\u001b[0;34m\u001b[0m\u001b[0m\n\u001b[1;32m      7\u001b[0m \u001b[0mdeaths_2021\u001b[0m \u001b[0;34m=\u001b[0m \u001b[0mdata\u001b[0m\u001b[0;34m[\u001b[0m\u001b[0;34m'2021'\u001b[0m\u001b[0;34m]\u001b[0m\u001b[0;34m\u001b[0m\u001b[0;34m\u001b[0m\u001b[0m\n",
            "\u001b[0;31mKeyError\u001b[0m: 'week cluster'"
          ]
        }
      ]
    },
    {
      "cell_type": "code",
      "source": [],
      "metadata": {
        "id": "jCnXH3MD2SDd"
      },
      "execution_count": null,
      "outputs": []
    }
  ]
}